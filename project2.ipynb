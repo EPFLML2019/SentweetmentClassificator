{
 "cells": [
  {
   "cell_type": "code",
   "execution_count": 4,
   "metadata": {},
   "outputs": [
    {
     "name": "stdout",
     "output_type": "stream",
     "text": [
      "The autoreload extension is already loaded. To reload it, use:\n",
      "  %reload_ext autoreload\n"
     ]
    }
   ],
   "source": [
    "# Useful starting lines\n",
    "%matplotlib inline\n",
    "from scipy.sparse import *\n",
    "import numpy as np\n",
    "import pickle\n",
    "import random\n",
    "import sys\n",
    "import matplotlib.pyplot as plt\n",
    "\n",
    "%load_ext autoreload\n",
    "%autoreload 2\n",
    "\n",
    "# Data input and output paths\n",
    "POS_TRAIN_PATH = 'data/twitter-datasets/train_pos_full.txt' \n",
    "NEG_TRAIN_PATH = 'data/twitter-datasets/train_neg_full.txt' \n",
    "DATA_TEST_PATH = 'data/twitter-datasets/test_data.txt'\n",
    "OUTPUT_PATH = 'predictions_out.csv'\n",
    "\n",
    "# For debugging purpose\n",
    "np.set_printoptions(threshold= 50)\n",
    "np.random.seed(10)"
   ]
  },
  {
   "cell_type": "markdown",
   "metadata": {},
   "source": [
    "## Load the training data into feature matrix, class labels, and event ids:"
   ]
  },
  {
   "cell_type": "code",
   "execution_count": 5,
   "metadata": {
    "scrolled": true
   },
   "outputs": [
    {
     "data": {
      "text/plain": [
       "\" DON'T RUN, YOU FOOL\\n!sh ./scripts/build_vocab.sh\\n!sh ./scripts/cut_vocab.sh\\n!python3 src/pickle_vocab.py\\n!python3 src/cooc.py\\n\""
      ]
     },
     "execution_count": 5,
     "metadata": {},
     "output_type": "execute_result"
    }
   ],
   "source": [
    "''' DON'T RUN, YOU FOOL\n",
    "!sh ./scripts/build_vocab.sh\n",
    "!sh ./scripts/cut_vocab.sh\n",
    "!python3 src/pickle_vocab.py\n",
    "!python3 src/cooc.py\n",
    "'''"
   ]
  },
  {
   "cell_type": "markdown",
   "metadata": {},
   "source": [
    "## Analyse Data\n",
    "\n",
    "\n",
    "### Null values"
   ]
  },
  {
   "cell_type": "code",
   "execution_count": 7,
   "metadata": {
    "scrolled": true
   },
   "outputs": [
    {
     "data": {
      "text/plain": [
       "' DON\\'T RUN, YOU FOOL\\nprint(\"loading cooccurrence matrix\")\\n#with open(\\'cooc.pkl\\', \\'rb\\') as f:\\nwith open(\\'saved_gen_files/cooc.pkl\\', \\'rb\\') as f:\\n    cooc = pickle.load(f)\\nprint(\"{} nonzero entries\".format(cooc.nnz))\\n\\nnmax = 100\\nprint(\"using nmax =\", nmax, \", cooc.max() =\", cooc.max())\\n\\nprint(\"initializing embeddings\")\\nembedding_dim = 20\\nxs = np.random.normal(size=(cooc.shape[0], embedding_dim))\\nys = np.random.normal(size=(cooc.shape[1], embedding_dim))\\n'"
      ]
     },
     "execution_count": 7,
     "metadata": {},
     "output_type": "execute_result"
    }
   ],
   "source": [
    "''' DON'T RUN, YOU FOOL\n",
    "print(\"loading cooccurrence matrix\")\n",
    "#with open('cooc.pkl', 'rb') as f:\n",
    "with open('saved_gen_files/cooc.pkl', 'rb') as f:\n",
    "    cooc = pickle.load(f)\n",
    "print(\"{} nonzero entries\".format(cooc.nnz))\n",
    "\n",
    "nmax = 100\n",
    "print(\"using nmax =\", nmax, \", cooc.max() =\", cooc.max())\n",
    "\n",
    "print(\"initializing embeddings\")\n",
    "embedding_dim = 20\n",
    "xs = np.random.normal(size=(cooc.shape[0], embedding_dim))\n",
    "ys = np.random.normal(size=(cooc.shape[1], embedding_dim))\n",
    "'''"
   ]
  },
  {
   "cell_type": "code",
   "execution_count": 8,
   "metadata": {},
   "outputs": [
    {
     "data": {
      "text/plain": [
       "' DON\\'T RUN, YOU FOOL\\neta = 0.001\\nalpha = 3 / 4\\n\\nepochs = 10\\n\\nfor epoch in range(epochs):\\n    print(\"epoch {}\".format(epoch))\\n    for ix, jy, n in zip(cooc.row, cooc.col, cooc.data):\\n        logn = np.log(n)\\n        fn = min(1.0, (n / nmax) ** alpha)\\n        x, y = xs[ix, :], ys[jy, :]\\n        scale = 2 * eta * fn * (logn - np.dot(x, y))\\n        xs[ix, :] += scale * y\\n        ys[jy, :] += scale * x\\n        \\nnp.save(\\'embeddings\\', xs)\\n'"
      ]
     },
     "execution_count": 8,
     "metadata": {},
     "output_type": "execute_result"
    }
   ],
   "source": [
    "''' DON'T RUN, YOU FOOL\n",
    "eta = 0.001\n",
    "alpha = 3 / 4\n",
    "\n",
    "epochs = 10\n",
    "\n",
    "for epoch in range(epochs):\n",
    "    print(\"epoch {}\".format(epoch))\n",
    "    for ix, jy, n in zip(cooc.row, cooc.col, cooc.data):\n",
    "        logn = np.log(n)\n",
    "        fn = min(1.0, (n / nmax) ** alpha)\n",
    "        x, y = xs[ix, :], ys[jy, :]\n",
    "        scale = 2 * eta * fn * (logn - np.dot(x, y))\n",
    "        xs[ix, :] += scale * y\n",
    "        ys[jy, :] += scale * x\n",
    "        \n",
    "np.save('embeddings', xs)\n",
    "'''"
   ]
  },
  {
   "cell_type": "markdown",
   "metadata": {},
   "source": [
    "### Prepare the Data"
   ]
  },
  {
   "cell_type": "code",
   "execution_count": 15,
   "metadata": {},
   "outputs": [
    {
     "data": {
      "text/plain": [
       "(2500000,)"
      ]
     },
     "execution_count": 15,
     "metadata": {},
     "output_type": "execute_result"
    }
   ],
   "source": [
    "embeddings = np.load('saved_gen_files/embeddings.npy')\n",
    "\n",
    "train_text_neg = open(NEG_TRAIN_PATH, 'r').readlines()\n",
    "train_text_pos = open(POS_TRAIN_PATH, 'r').readlines()\n",
    "# Construct the two arrays \n",
    "train_text = np.array(train_text_neg + train_text_pos)\n",
    "train_y = np.concatenate([np.zeros(len(train_text_neg)), np.ones(len(train_text_pos))])\n",
    "train_text.shape"
   ]
  },
  {
   "cell_type": "code",
   "execution_count": 10,
   "metadata": {},
   "outputs": [],
   "source": [
    "with open('vocab.pkl', 'rb') as f:\n",
    "    voc = pickle.load(f)\n",
    "\n",
    "def toAvgVec(t):\n",
    "    \n",
    "    _, K = embeddings.shape\n",
    "    sum_vec = np.zeros((K))\n",
    "    words = t.split()\n",
    "    for word in words:\n",
    "        index = voc.get(word)\n",
    "        if index is not None:\n",
    "            sum_vec += embeddings[index]\n",
    "            \n",
    "    return sum_vec/len(words)\n",
    "# Create numerical feature matrix of tweets\n",
    "train_data = np.zeros(len(train_text)*embeddings.shape[1]).reshape(len(train_text), 20)\n",
    "for i in range(len(train_text)):\n",
    "    train_data[i] = toAvgVec(train_text[i])"
   ]
  },
  {
   "cell_type": "code",
   "execution_count": 16,
   "metadata": {},
   "outputs": [],
   "source": [
    "indices = np.arange(train_data.shape[0])\n",
    "random.shuffle(indices)\n",
    "\n",
    "indices\n",
    "X_train = train_data[indices[:2400000]]\n",
    "y_train = train_y[indices[:2400000]]\n",
    "\n",
    "X_test = train_data[2400000:]\n",
    "y_test = train_y[2400000:]"
   ]
  },
  {
   "cell_type": "code",
   "execution_count": 17,
   "metadata": {},
   "outputs": [
    {
     "data": {
      "text/plain": [
       "0.87394"
      ]
     },
     "execution_count": 17,
     "metadata": {},
     "output_type": "execute_result"
    }
   ],
   "source": [
    "from sklearn import linear_model\n",
    "from sklearn.metrics import accuracy_score\n",
    "clf = linear_model.SGDClassifier(max_iter=1000, tol=1e-3)\n",
    "\n",
    "clf.fit(X_train, y_train)\n",
    "clf.predict(X_test)\n",
    "\n",
    "accuracy_score(y_test, clf.predict(X_test))"
   ]
  },
  {
   "cell_type": "markdown",
   "metadata": {},
   "source": [
    "### Outliers "
   ]
  }
 ],
 "metadata": {
  "anaconda-cloud": {},
  "kernelspec": {
   "display_name": "Python 3",
   "language": "python",
   "name": "python3"
  },
  "language_info": {
   "codemirror_mode": {
    "name": "ipython",
    "version": 3
   },
   "file_extension": ".py",
   "mimetype": "text/x-python",
   "name": "python",
   "nbconvert_exporter": "python",
   "pygments_lexer": "ipython3",
   "version": "3.7.4"
  }
 },
 "nbformat": 4,
 "nbformat_minor": 1
}
